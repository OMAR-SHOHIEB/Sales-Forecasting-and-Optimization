{
 "cells": [
  {
   "cell_type": "code",
   "execution_count": 1,
   "id": "6bcb9a25-967f-4ac8-9213-180344bb422a",
   "metadata": {},
   "outputs": [],
   "source": [
    "import pandas as pd\n",
    "import matplotlib.pyplot as plt"
   ]
  },
  {
   "cell_type": "code",
   "execution_count": 3,
   "id": "4986ed79-1c7b-41c2-b6aa-36fa7e3650c0",
   "metadata": {},
   "outputs": [
    {
     "data": {
      "text/html": [
       "<div>\n",
       "<style scoped>\n",
       "    .dataframe tbody tr th:only-of-type {\n",
       "        vertical-align: middle;\n",
       "    }\n",
       "\n",
       "    .dataframe tbody tr th {\n",
       "        vertical-align: top;\n",
       "    }\n",
       "\n",
       "    .dataframe thead th {\n",
       "        text-align: right;\n",
       "    }\n",
       "</style>\n",
       "<table border=\"1\" class=\"dataframe\">\n",
       "  <thead>\n",
       "    <tr style=\"text-align: right;\">\n",
       "      <th></th>\n",
       "      <th>day</th>\n",
       "      <th>month</th>\n",
       "      <th>year</th>\n",
       "      <th>country_encoded</th>\n",
       "      <th>store_encoded</th>\n",
       "      <th>product_encoded</th>\n",
       "      <th>num_sold</th>\n",
       "      <th>lag_1</th>\n",
       "      <th>lag_2</th>\n",
       "      <th>lag_3</th>\n",
       "      <th>lag_4</th>\n",
       "      <th>lag_5</th>\n",
       "      <th>lag_6</th>\n",
       "      <th>lag_7</th>\n",
       "      <th>rolling_mean_7</th>\n",
       "      <th>rolling_std_7</th>\n",
       "    </tr>\n",
       "  </thead>\n",
       "  <tbody>\n",
       "    <tr>\n",
       "      <th>0</th>\n",
       "      <td>1</td>\n",
       "      <td>1</td>\n",
       "      <td>2015</td>\n",
       "      <td>1</td>\n",
       "      <td>0</td>\n",
       "      <td>0</td>\n",
       "      <td>906</td>\n",
       "      <td>526.0</td>\n",
       "      <td>283.0</td>\n",
       "      <td>911.0</td>\n",
       "      <td>572.0</td>\n",
       "      <td>146.0</td>\n",
       "      <td>520.0</td>\n",
       "      <td>329.0</td>\n",
       "      <td>469.571429</td>\n",
       "      <td>248.443727</td>\n",
       "    </tr>\n",
       "    <tr>\n",
       "      <th>1</th>\n",
       "      <td>1</td>\n",
       "      <td>1</td>\n",
       "      <td>2015</td>\n",
       "      <td>1</td>\n",
       "      <td>0</td>\n",
       "      <td>2</td>\n",
       "      <td>250</td>\n",
       "      <td>906.0</td>\n",
       "      <td>526.0</td>\n",
       "      <td>283.0</td>\n",
       "      <td>911.0</td>\n",
       "      <td>572.0</td>\n",
       "      <td>146.0</td>\n",
       "      <td>520.0</td>\n",
       "      <td>552.000000</td>\n",
       "      <td>286.790865</td>\n",
       "    </tr>\n",
       "    <tr>\n",
       "      <th>2</th>\n",
       "      <td>1</td>\n",
       "      <td>1</td>\n",
       "      <td>2015</td>\n",
       "      <td>1</td>\n",
       "      <td>1</td>\n",
       "      <td>2</td>\n",
       "      <td>395</td>\n",
       "      <td>250.0</td>\n",
       "      <td>906.0</td>\n",
       "      <td>526.0</td>\n",
       "      <td>283.0</td>\n",
       "      <td>911.0</td>\n",
       "      <td>572.0</td>\n",
       "      <td>146.0</td>\n",
       "      <td>513.428571</td>\n",
       "      <td>309.100770</td>\n",
       "    </tr>\n",
       "    <tr>\n",
       "      <th>3</th>\n",
       "      <td>1</td>\n",
       "      <td>1</td>\n",
       "      <td>2015</td>\n",
       "      <td>2</td>\n",
       "      <td>0</td>\n",
       "      <td>1</td>\n",
       "      <td>440</td>\n",
       "      <td>395.0</td>\n",
       "      <td>250.0</td>\n",
       "      <td>906.0</td>\n",
       "      <td>526.0</td>\n",
       "      <td>283.0</td>\n",
       "      <td>911.0</td>\n",
       "      <td>572.0</td>\n",
       "      <td>549.000000</td>\n",
       "      <td>271.852901</td>\n",
       "    </tr>\n",
       "    <tr>\n",
       "      <th>4</th>\n",
       "      <td>1</td>\n",
       "      <td>1</td>\n",
       "      <td>2015</td>\n",
       "      <td>2</td>\n",
       "      <td>0</td>\n",
       "      <td>0</td>\n",
       "      <td>624</td>\n",
       "      <td>440.0</td>\n",
       "      <td>395.0</td>\n",
       "      <td>250.0</td>\n",
       "      <td>906.0</td>\n",
       "      <td>526.0</td>\n",
       "      <td>283.0</td>\n",
       "      <td>911.0</td>\n",
       "      <td>530.142857</td>\n",
       "      <td>274.556265</td>\n",
       "    </tr>\n",
       "  </tbody>\n",
       "</table>\n",
       "</div>"
      ],
      "text/plain": [
       "   day  month  year  country_encoded  store_encoded  product_encoded  \\\n",
       "0    1      1  2015                1              0                0   \n",
       "1    1      1  2015                1              0                2   \n",
       "2    1      1  2015                1              1                2   \n",
       "3    1      1  2015                2              0                1   \n",
       "4    1      1  2015                2              0                0   \n",
       "\n",
       "   num_sold  lag_1  lag_2  lag_3  lag_4  lag_5  lag_6  lag_7  rolling_mean_7  \\\n",
       "0       906  526.0  283.0  911.0  572.0  146.0  520.0  329.0      469.571429   \n",
       "1       250  906.0  526.0  283.0  911.0  572.0  146.0  520.0      552.000000   \n",
       "2       395  250.0  906.0  526.0  283.0  911.0  572.0  146.0      513.428571   \n",
       "3       440  395.0  250.0  906.0  526.0  283.0  911.0  572.0      549.000000   \n",
       "4       624  440.0  395.0  250.0  906.0  526.0  283.0  911.0      530.142857   \n",
       "\n",
       "   rolling_std_7  \n",
       "0     248.443727  \n",
       "1     286.790865  \n",
       "2     309.100770  \n",
       "3     271.852901  \n",
       "4     274.556265  "
      ]
     },
     "execution_count": 3,
     "metadata": {},
     "output_type": "execute_result"
    }
   ],
   "source": [
    "df=pd.read_csv(\"ready_df.csv\")\n",
    "df.head()"
   ]
  },
  {
   "cell_type": "code",
   "execution_count": 5,
   "id": "c8d695e2-79c1-4006-8d77-9b9a4718b9ab",
   "metadata": {},
   "outputs": [],
   "source": [
    "X=df.drop(columns='num_sold').copy()\n",
    "y=df['num_sold']"
   ]
  },
  {
   "cell_type": "code",
   "execution_count": 6,
   "id": "baba33ff-dcb7-496c-abe2-2d212442f0fc",
   "metadata": {},
   "outputs": [],
   "source": [
    "from sklearn.model_selection import train_test_split\n",
    "X_train,X_test,y_train,y_test=train_test_split(X,y,test_size=0.2,random_state=42)"
   ]
  },
  {
   "cell_type": "code",
   "execution_count": 8,
   "id": "1dd93596-0de7-43cd-95ce-04118a235dc2",
   "metadata": {},
   "outputs": [],
   "source": [
    "from xgboost import XGBRegressor\n",
    "from sklearn.model_selection import GridSearchCV\n",
    "model=XGBRegressor()\n",
    "param_grid = {\n",
    "    'n_estimators': [50, 100, 200],\n",
    "    'max_depth': [3, 5, 10],\n",
    "    'learning_rate': [0.01, 0.1, 0.2]\n",
    "}\n",
    "grid_search = GridSearchCV(estimator=model, param_grid=param_grid, cv=5)\n",
    "grid_search.fit(X_train, y_train)\n",
    "best_model = grid_search.best_estimator_"
   ]
  },
  {
   "cell_type": "code",
   "execution_count": 9,
   "id": "4a145087-67a2-4c64-b2b9-b854359bc236",
   "metadata": {},
   "outputs": [],
   "source": [
    "preds=best_model.predict(X_test)"
   ]
  },
  {
   "cell_type": "code",
   "execution_count": 11,
   "id": "dba2dc3e-36f3-46ef-b8f5-bf9cc55fd2fc",
   "metadata": {},
   "outputs": [
    {
     "name": "stdout",
     "output_type": "stream",
     "text": [
      "MAE: 19.7308\n",
      "MSE: 811.7796\n",
      "RMSE: 28.4917\n",
      "R² Score: 0.9807\n"
     ]
    }
   ],
   "source": [
    "from sklearn.metrics import mean_absolute_error, mean_squared_error, r2_score\n",
    "import numpy as np\n",
    "mae = mean_absolute_error(y_test, preds)\n",
    "mse = mean_squared_error(y_test, preds)\n",
    "rmse = np.sqrt(mse)\n",
    "r2 = r2_score(y_test, preds)\n",
    "\n",
    "# Print results\n",
    "print(f\"MAE: {mae:.4f}\")\n",
    "print(f\"MSE: {mse:.4f}\")\n",
    "print(f\"RMSE: {rmse:.4f}\")\n",
    "print(f\"R² Score: {r2:.4f}\")"
   ]
  },
  {
   "cell_type": "code",
   "execution_count": 13,
   "id": "330d5e7c-8ae0-41f0-9d8c-c32a5c990c5c",
   "metadata": {},
   "outputs": [],
   "source": [
    "import pickle as pkl\n",
    "with open('XGBRegressor','wb') as file:\n",
    "    pkl.dump(model, file)"
   ]
  },
  {
   "cell_type": "code",
   "execution_count": null,
   "id": "693d203f-32f8-4f8c-9e88-b1c6e9a35872",
   "metadata": {},
   "outputs": [],
   "source": []
  }
 ],
 "metadata": {
  "kernelspec": {
   "display_name": "Python 3 (ipykernel)",
   "language": "python",
   "name": "python3"
  },
  "language_info": {
   "codemirror_mode": {
    "name": "ipython",
    "version": 3
   },
   "file_extension": ".py",
   "mimetype": "text/x-python",
   "name": "python",
   "nbconvert_exporter": "python",
   "pygments_lexer": "ipython3",
   "version": "3.11.7"
  }
 },
 "nbformat": 4,
 "nbformat_minor": 5
}
