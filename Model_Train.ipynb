{
 "cells": [
  {
   "cell_type": "code",
   "execution_count": 20,
   "metadata": {},
   "outputs": [],
   "source": [
    "import pandas as pd\n",
    "import numpy as np\n",
    "import joblib\n",
    "from sklearn.preprocessing import LabelEncoder\n",
    "from sklearn.model_selection import train_test_split\n",
    "from xgboost import XGBRegressor\n",
    "from sklearn.metrics import mean_squared_error, mean_absolute_error, r2_score\n",
    "import os"
   ]
  },
  {
   "cell_type": "code",
   "execution_count": 21,
   "metadata": {},
   "outputs": [],
   "source": [
    "def preprocess_data(df):\n",
    "    # Convert date to datetime\n",
    "    df['date'] = pd.to_datetime(df['date'])\n",
    "    \n",
    "    # Create temporal features\n",
    "    df['year'] = df['date'].dt.year\n",
    "    df['month'] = df['date'].dt.month\n",
    "    df['day_of_week'] = df['date'].dt.dayofweek\n",
    "    df['day_of_month'] = df['date'].dt.day\n",
    "    \n",
    "    # Encode categorical variables\n",
    "    le_country = LabelEncoder()\n",
    "    le_store = LabelEncoder()\n",
    "    le_product = LabelEncoder()\n",
    "    \n",
    "    df['country_encoded'] = le_country.fit_transform(df['country'])\n",
    "    df['store_encoded'] = le_store.fit_transform(df['store'])\n",
    "    df['product_encoded'] = le_product.fit_transform(df['product'])\n",
    "    \n",
    "    # Save the label encoders for later use in the Streamlit app\n",
    "    os.makedirs('models', exist_ok=True)\n",
    "    joblib.dump(le_country, 'models/le_country.pkl')\n",
    "    joblib.dump(le_store, 'models/le_store.pkl')\n",
    "    joblib.dump(le_product, 'models/le_product.pkl')\n",
    "    \n",
    "    return df"
   ]
  },
  {
   "cell_type": "code",
   "execution_count": 22,
   "metadata": {},
   "outputs": [],
   "source": [
    "# Define feature columns\n",
    "def get_feature_columns():\n",
    "    return ['year', 'month', 'day_of_week', 'day_of_month', \n",
    "            'country_encoded', 'store_encoded', 'product_encoded']"
   ]
  },
  {
   "cell_type": "code",
   "execution_count": 23,
   "metadata": {},
   "outputs": [],
   "source": [
    "def train_model(df):\n",
    "    print(\"Preprocessing data...\")\n",
    "    df = preprocess_data(df)\n",
    "    features = get_feature_columns()\n",
    "    target = 'num_sold'\n",
    "    \n",
    "    X_train, X_test, y_train, y_test = train_test_split(df[features], df[target], random_state=3, test_size= 0.2)\n",
    "    \n",
    "    print(\"Training XGBoost model...\")\n",
    "    xgb_model = XGBRegressor(random_state=42)\n",
    "    xgb_model.fit(X_train, y_train)\n",
    "    xgb_predictions = xgb_model.predict(X_test)\n",
    "    xgb_rmse = np.sqrt(mean_squared_error(y_test, xgb_predictions))\n",
    "    xgb_mae = mean_absolute_error(y_test, xgb_predictions)\n",
    "    xgb_r2 = r2_score(y_test, xgb_predictions)\n",
    "    \n",
    "    print(f\"XGBoost:\")\n",
    "    print(f\"RMSE: {xgb_rmse:.2f}\")\n",
    "    print(f\"MAE: {xgb_mae:.2f}\")\n",
    "    print(f\"R2: {xgb_r2:.2f}\")\n",
    "    \n",
    "    joblib.dump(xgb_model, f'models/xgboost_model.pkl')\n",
    "    with open('models/best_model.txt', 'w') as f:\n",
    "        f.write(f\"XGBoost:\\n\")\n",
    "        f.write(f\"RMSE: {xgb_rmse:.2f}\\n\")\n",
    "        f.write(f\"MAE: {xgb_mae:.2f}\\n\")\n",
    "        f.write(f\"R2: {xgb_r2:.2f}\")"
   ]
  },
  {
   "cell_type": "code",
   "execution_count": 24,
   "metadata": {},
   "outputs": [
    {
     "name": "stdout",
     "output_type": "stream",
     "text": [
      "Loading data...\n",
      "Training models...\n",
      "Preprocessing data...\n",
      "Training XGBoost model...\n",
      "XGBoost:\n",
      "RMSE: 30.71\n",
      "MAE: 19.36\n",
      "R2: 0.99\n"
     ]
    }
   ],
   "source": [
    "if __name__ == '__main__':\n",
    "    print(\"Loading data...\")\n",
    "    df = pd.read_csv('train.csv')\n",
    "    \n",
    "    print(\"Training models...\")\n",
    "    train_model(df)"
   ]
  }
 ],
 "metadata": {
  "kernelspec": {
   "display_name": "Python 3",
   "language": "python",
   "name": "python3"
  },
  "language_info": {
   "codemirror_mode": {
    "name": "ipython",
    "version": 3
   },
   "file_extension": ".py",
   "mimetype": "text/x-python",
   "name": "python",
   "nbconvert_exporter": "python",
   "pygments_lexer": "ipython3",
   "version": "3.12.3"
  }
 },
 "nbformat": 4,
 "nbformat_minor": 2
}
